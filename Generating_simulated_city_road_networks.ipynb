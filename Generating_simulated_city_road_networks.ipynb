{
  "nbformat": 4,
  "nbformat_minor": 0,
  "metadata": {
    "colab": {
      "name": "Generating simulated city road networks",
      "provenance": []
    },
    "kernelspec": {
      "name": "python3",
      "display_name": "Python 3"
    }
  },
  "cells": [
    {
      "cell_type": "code",
      "metadata": {
        "id": "kQN54w5Vmetc",
        "colab_type": "code",
        "colab": {}
      },
      "source": [
        "from random import gauss\n",
        "import math"
      ],
      "execution_count": 0,
      "outputs": []
    },
    {
      "cell_type": "code",
      "metadata": {
        "id": "upx8SZKqnfJF",
        "colab_type": "code",
        "colab": {}
      },
      "source": [
        "class RoadNetwork():\n",
        "  def __init__(self, nodes_size, mean = [], std = []):\n",
        "    self.nodes_size = nodes_size\n",
        "    self.mean = mean\n",
        "    self.std = std\n",
        "\n",
        "  def genNodes(self):\n",
        "    self.nodes = [[random.gauss(self.mean[0], self.std[0]), random.gauss(self.mean[1], self.std[1]), random.gauss(self.mean[2], self.std[2])] for x in range(self.nodes_size)]\n",
        "    return self.nodes\n",
        "\n",
        "  def genEdges(self):\n",
        "    self.edges = []\n",
        "    for i in self.nodes:\n",
        "      for j in [x for x in self.nodes if x!=i]:\n",
        "        if 0.1 < math.sqrt((i[0]-j[0])**2 + (i[1]-j[1])**2 + (i[2]-j[2])**2) < 2:\n",
        "          self.edges.append([self.nodes.index(i), self.nodes.index(j)])\n",
        "    return self.edges\n",
        "\n",
        "  def output(self):\n",
        "    for i in self.nodes:\n",
        "      print(str(i).lstrip('[').rstrip(']'))\n",
        "    for i in self.edges:\n",
        "      print(str(i).lstrip('[').rstrip(']'))"
      ],
      "execution_count": 0,
      "outputs": []
    },
    {
      "cell_type": "code",
      "metadata": {
        "id": "xhU7iRQvKAFm",
        "colab_type": "code",
        "colab": {}
      },
      "source": [
        "network_1 = RoadNetwork(3, mean=[0,0,0], std = [1,1,1])"
      ],
      "execution_count": 0,
      "outputs": []
    },
    {
      "cell_type": "code",
      "metadata": {
        "id": "MhHFjLArMbZw",
        "colab_type": "code",
        "colab": {
          "base_uri": "https://localhost:8080/",
          "height": 68
        },
        "outputId": "1233b7a7-5ed7-4623-ae3e-de09aa95a517"
      },
      "source": [
        "network_1.genNodes()"
      ],
      "execution_count": 136,
      "outputs": [
        {
          "output_type": "execute_result",
          "data": {
            "text/plain": [
              "[[0.7463956664257994, 0.3994043327536059, 0.6970179100622914],\n",
              " [0.36406010040463616, -0.8774037640132197, -0.7284959710592656],\n",
              " [0.04487951816039789, -0.39792215043639473, -0.9167999700466211]]"
            ]
          },
          "metadata": {
            "tags": []
          },
          "execution_count": 136
        }
      ]
    },
    {
      "cell_type": "code",
      "metadata": {
        "id": "YOjxsJuBGsQa",
        "colab_type": "code",
        "colab": {
          "base_uri": "https://localhost:8080/",
          "height": 68
        },
        "outputId": "dc77ea2b-e2e1-4d24-993c-23130434a705"
      },
      "source": [
        "network_1.nodes"
      ],
      "execution_count": 137,
      "outputs": [
        {
          "output_type": "execute_result",
          "data": {
            "text/plain": [
              "[[0.7463956664257994, 0.3994043327536059, 0.6970179100622914],\n",
              " [0.36406010040463616, -0.8774037640132197, -0.7284959710592656],\n",
              " [0.04487951816039789, -0.39792215043639473, -0.9167999700466211]]"
            ]
          },
          "metadata": {
            "tags": []
          },
          "execution_count": 137
        }
      ]
    },
    {
      "cell_type": "code",
      "metadata": {
        "id": "-vZHN8cPG9lx",
        "colab_type": "code",
        "colab": {
          "base_uri": "https://localhost:8080/",
          "height": 34
        },
        "outputId": "6aee1045-94f2-40db-81c5-54dcc1ae23d1"
      },
      "source": [
        "network_1.genEdges()"
      ],
      "execution_count": 138,
      "outputs": [
        {
          "output_type": "execute_result",
          "data": {
            "text/plain": [
              "[[0, 1], [0, 2], [1, 0], [1, 2], [2, 0], [2, 1]]"
            ]
          },
          "metadata": {
            "tags": []
          },
          "execution_count": 138
        }
      ]
    },
    {
      "cell_type": "code",
      "metadata": {
        "id": "C2BB_9nuT9p6",
        "colab_type": "code",
        "colab": {
          "base_uri": "https://localhost:8080/",
          "height": 170
        },
        "outputId": "df252327-a17e-4557-f3ec-673cd4ad9bfd"
      },
      "source": [
        "network_1.output()"
      ],
      "execution_count": 139,
      "outputs": [
        {
          "output_type": "stream",
          "text": [
            "0.7463956664257994, 0.3994043327536059, 0.6970179100622914\n",
            "0.36406010040463616, -0.8774037640132197, -0.7284959710592656\n",
            "0.04487951816039789, -0.39792215043639473, -0.9167999700466211\n",
            "0, 1\n",
            "0, 2\n",
            "1, 0\n",
            "1, 2\n",
            "2, 0\n",
            "2, 1\n"
          ],
          "name": "stdout"
        }
      ]
    },
    {
      "cell_type": "code",
      "metadata": {
        "id": "7uBpawIQVSQi",
        "colab_type": "code",
        "colab": {}
      },
      "source": [
        "network_2"
      ],
      "execution_count": 0,
      "outputs": []
    }
  ]
}